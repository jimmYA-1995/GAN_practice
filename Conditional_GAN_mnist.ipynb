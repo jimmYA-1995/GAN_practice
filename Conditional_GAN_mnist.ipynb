{
  "nbformat": 4,
  "nbformat_minor": 0,
  "metadata": {
    "colab": {
      "name": "Conditional_GAN_mnist.ipynb",
      "provenance": [],
      "collapsed_sections": [],
      "toc_visible": true,
      "include_colab_link": true
    },
    "kernelspec": {
      "name": "python3",
      "display_name": "Python 3"
    },
    "accelerator": "GPU"
  },
  "cells": [
    {
      "cell_type": "markdown",
      "metadata": {
        "id": "view-in-github",
        "colab_type": "text"
      },
      "source": [
        "<a href=\"https://colab.research.google.com/github/jimmYA-1995/GAN_practice/blob/master/Conditional_GAN_mnist.ipynb\" target=\"_parent\"><img src=\"https://colab.research.google.com/assets/colab-badge.svg\" alt=\"Open In Colab\"/></a>"
      ]
    },
    {
      "cell_type": "code",
      "metadata": {
        "id": "lz-0P_tVkOZ7",
        "colab_type": "code",
        "colab": {
          "base_uri": "https://localhost:8080/",
          "height": 34
        },
        "outputId": "83e3b7b0-fa2b-44fa-b3d6-5672ba7c51b7"
      },
      "source": [
        "# Colab only\n",
        "try:\n",
        "  %tensorflow_version 2.x\n",
        "except Exception:\n",
        "  pass"
      ],
      "execution_count": 1,
      "outputs": [
        {
          "output_type": "stream",
          "text": [
            "TensorFlow 2.x selected.\n"
          ],
          "name": "stdout"
        }
      ]
    },
    {
      "cell_type": "code",
      "metadata": {
        "id": "xWIqEwObkfHP",
        "colab_type": "code",
        "colab": {}
      },
      "source": [
        "import os\n",
        "import time\n",
        "import numpy as np\n",
        "import matplotlib.pyplot as plt\n",
        "\n",
        "from PIL import Image\n",
        "from skimage.io import imshow\n",
        "from IPython.display import display\n",
        "\n",
        "import tensorflow as tf\n",
        "from tensorflow.keras import Model, layers, Sequential, datasets, optimizers\n",
        "from tensorflow.keras.datasets import mnist "
      ],
      "execution_count": 0,
      "outputs": []
    },
    {
      "cell_type": "code",
      "metadata": {
        "id": "XqRIq7Tok5NF",
        "colab_type": "code",
        "outputId": "1cadf0fa-f63a-47d5-b712-cf6aa7eecde9",
        "colab": {
          "base_uri": "https://localhost:8080/",
          "height": 34
        }
      },
      "source": [
        "np.__version__"
      ],
      "execution_count": 3,
      "outputs": [
        {
          "output_type": "execute_result",
          "data": {
            "text/plain": [
              "'1.17.3'"
            ]
          },
          "metadata": {
            "tags": []
          },
          "execution_count": 3
        }
      ]
    },
    {
      "cell_type": "code",
      "metadata": {
        "id": "gF8kG4iGntZN",
        "colab_type": "code",
        "outputId": "f02bda42-d4b1-443e-cc89-6b7b5ed810d3",
        "colab": {
          "base_uri": "https://localhost:8080/",
          "height": 34
        }
      },
      "source": [
        "tf.__version__"
      ],
      "execution_count": 4,
      "outputs": [
        {
          "output_type": "execute_result",
          "data": {
            "text/plain": [
              "'2.0.0'"
            ]
          },
          "metadata": {
            "tags": []
          },
          "execution_count": 4
        }
      ]
    },
    {
      "cell_type": "markdown",
      "metadata": {
        "id": "R8j7hbQAMccM",
        "colab_type": "text"
      },
      "source": [
        "## Get Mnist Dataset\n",
        "\n",
        "After import necessary packages, we want to load and preprocess datsets.\n",
        "Also, visualizing sample images for better understanding.\n",
        "\n",
        "* load datasets and get types and shapes.\n",
        "* visualize sample images and labels.\n",
        "* make tensorflow dataset."
      ]
    },
    {
      "cell_type": "code",
      "metadata": {
        "id": "AnNUr8Ug4Iz8",
        "colab_type": "code",
        "outputId": "2c3b7808-ac57-4a08-9ab9-d10422da9a76",
        "colab": {
          "base_uri": "https://localhost:8080/",
          "height": 34
        }
      },
      "source": [
        "(x_train, y_train), (x_test, y_test) = mnist.load_data()\n",
        "\n",
        "BUFFER_SIZE = x_train.shape[0]\n",
        "BATCH_SIZE = 32\n",
        "x_train.dtype, x_train.shape, y_train.dtype, y_train.shape"
      ],
      "execution_count": 5,
      "outputs": [
        {
          "output_type": "execute_result",
          "data": {
            "text/plain": [
              "(dtype('uint8'), (60000, 28, 28), dtype('uint8'), (60000,))"
            ]
          },
          "metadata": {
            "tags": []
          },
          "execution_count": 5
        }
      ]
    },
    {
      "cell_type": "code",
      "metadata": {
        "id": "nAuIp_3fpTCx",
        "colab_type": "code",
        "outputId": "1eb347ae-6639-4802-f22b-4e3835691dc5",
        "colab": {
          "base_uri": "https://localhost:8080/",
          "height": 45
        }
      },
      "source": [
        "def showX(X):\n",
        "    int_X_reshape = X.reshape(-1,28,28).swapaxes(0,1).reshape(28,-1)\n",
        "    display(Image.fromarray(int_X_reshape))\n",
        "\n",
        "showX(x_train[:20])"
      ],
      "execution_count": 6,
      "outputs": [
        {
          "output_type": "display_data",
          "data": {
            "image/png": "[encoded data removed]",
            "text/plain": [
              "<PIL.Image.Image image mode=L size=560x28 at 0x7F0658BE6C18>"
            ]
          },
          "metadata": {
            "tags": []
          }
        }
      ]
    },
    {
      "cell_type": "code",
      "metadata": {
        "id": "O5HH-mc9qjCW",
        "colab_type": "code",
        "outputId": "05c9b873-aaa4-4a37-cf95-d5b2928380e2",
        "colab": {
          "base_uri": "https://localhost:8080/",
          "height": 51
        }
      },
      "source": [
        "y_train[:20]"
      ],
      "execution_count": 7,
      "outputs": [
        {
          "output_type": "execute_result",
          "data": {
            "text/plain": [
              "array([5, 0, 4, 1, 9, 2, 1, 3, 1, 4, 3, 5, 3, 6, 1, 7, 2, 8, 6, 9],\n",
              "      dtype=uint8)"
            ]
          },
          "metadata": {
            "tags": []
          },
          "execution_count": 7
        }
      ]
    },
    {
      "cell_type": "code",
      "metadata": {
        "id": "Mp860VFS4rhm",
        "colab_type": "code",
        "outputId": "980e0d28-feae-416a-e8a5-4c8bb5c2624f",
        "colab": {
          "base_uri": "https://localhost:8080/",
          "height": 314
        }
      },
      "source": [
        "imshow(x_train[0])"
      ],
      "execution_count": 8,
      "outputs": [
        {
          "output_type": "execute_result",
          "data": {
            "text/plain": [
              "<matplotlib.image.AxesImage at 0x7f0658ad46a0>"
            ]
          },
          "metadata": {
            "tags": []
          },
          "execution_count": 8
        },
        {
          "output_type": "display_data",
          "data": {
            "image/png": "[encoded data removed]",
            "text/plain": [
              "<Figure size 432x288 with 1 Axes>"
            ]
          },
          "metadata": {
            "tags": []
          }
        }
      ]
    },
    {
      "cell_type": "code",
      "metadata": {
        "id": "2vBXURKvlIis",
        "colab_type": "code",
        "colab": {}
      },
      "source": [
        "def preprocess(x):\n",
        "    x = (tf.cast(x, tf.float32) - 127.5) / 127.5\n",
        "    return x[..., None]\n",
        "\n",
        "ds_train_x = tf.data.Dataset.from_tensor_slices(preprocess(x_train))\n",
        "ds_train_y = tf.data.Dataset.from_tensor_slices(y_train).map(lambda y: tf.one_hot(y, 10))\n",
        "ds_train = tf.data.Dataset.zip((ds_train_x, ds_train_y)).shuffle(BUFFER_SIZE).batch(BATCH_SIZE)"
      ],
      "execution_count": 0,
      "outputs": []
    },
    {
      "cell_type": "markdown",
      "metadata": {
        "id": "g1dCKbfaN_Cp",
        "colab_type": "text"
      },
      "source": [
        "# Define Generator and Discriminator\n",
        "\n",
        "\n",
        "## Generator\n",
        "* use Convolution Transpose for upsampling.\n",
        "* use Batch Normalization emprically.\n",
        "* use **Tanh** in the output layer and Leaky_ReLU in the rest of layers.\n",
        "* **Concatenate noise vector and conditional_label in the  begining**\n",
        "\n",
        "# Discriminator\n",
        "* Use common CNN as classifier.\n",
        "* Concatenate flatted CNN features with conditional labels."
      ]
    },
    {
      "cell_type": "code",
      "metadata": {
        "id": "BQmIAL-osxDY",
        "colab_type": "code",
        "colab": {}
      },
      "source": [
        "# Define generator\n",
        "LATENT_DIM = 100\n",
        "class Generator(Model):\n",
        "  def __init__(self):\n",
        "    super().__init__()\n",
        "    self.fc1 = layers.Dense(7*7*256, use_bias=False, input_shape=(LATENT_DIM,))\n",
        "    self.bn1 = layers.BatchNormalization()\n",
        "    # deConV layer\n",
        "    self.conv2tr_1 = layers.Conv2DTranspose(128, (5,5), strides=(1,1), padding=\"SAME\", use_bias=False)\n",
        "    self.bn2 = layers.BatchNormalization()\n",
        "    # deConV layer\n",
        "    self.conv2tr_2 = layers.Conv2DTranspose(64, (5,5), strides=(2,2), padding=\"SAME\", use_bias=False)\n",
        "    self.bn3 = layers.BatchNormalization()\n",
        "    # deConV layer\n",
        "    self.conv2tr_3 = layers.Conv2DTranspose(1, (5,5), strides=(2,2), padding=\"SAME\", activation=\"tanh\")\n",
        "    \n",
        "  @tf.function\n",
        "  def call(self, inputs, is_training=False):\n",
        "    _ = layers.concatenate([inputs[1], inputs[0]])\n",
        "    x = self.fc1(_)\n",
        "    x = self.bn1(x, training=is_training)\n",
        "    x = tf.nn.leaky_relu(x)\n",
        "    x = tf.reshape(x, shape=[-1,7,7,256])\n",
        "    x = self.conv2tr_1(x)\n",
        "    x = self.bn2(x, training=is_training)\n",
        "    x = tf.nn.leaky_relu(x)\n",
        "    x = self.conv2tr_2(x)\n",
        "    x = self.bn3(x, training=is_training)\n",
        "    x = tf.nn.leaky_relu(x)\n",
        "    \n",
        "    x = self.conv2tr_3(x)\n",
        "    \n",
        "    return x"
      ],
      "execution_count": 0,
      "outputs": []
    },
    {
      "cell_type": "code",
      "metadata": {
        "id": "k1epd4DfxBIG",
        "colab_type": "code",
        "colab": {}
      },
      "source": [
        "# DEFINE Descriminator\n",
        "class Descriminator(Model):\n",
        "  def __init__(self):\n",
        "    super().__init__()\n",
        "    self.conv1 = layers.Conv2D(64, (5,5), strides=2, padding=\"SAME\")\n",
        "    self.drop1 = layers.Dropout(0.3)\n",
        "    self.conv2 = layers.Conv2D(128, (5,5), strides=2, padding=\"SAME\")\n",
        "    self.drop2 = layers.Dropout(0.3)\n",
        "    self.flatten = layers.Flatten()\n",
        "    self.fc1 = layers.Dense(50)\n",
        "    self.bn = layers.BatchNormalization()\n",
        "    self.fc2 = layers.Dense(1)\n",
        "  \n",
        "  @tf.function\n",
        "  def call(self, inputs, is_training=False):\n",
        "    x = self.conv1(inputs[0])\n",
        "    x = tf.nn.leaky_relu(x)\n",
        "    x = self.drop1(x, training=is_training)\n",
        "    x = self.conv2(x)\n",
        "    x = tf.nn.leaky_relu(x)\n",
        "    x = self.drop2(x, training=is_training)\n",
        "    x = self.flatten(x)\n",
        "    x = layers.concatenate([x, inputs[1]])\n",
        "    x = self.fc1(x)\n",
        "    x = self.bn(x, training=is_training)\n",
        "    x = tf.nn.leaky_relu(x)\n",
        "    x = self.fc2(x)\n",
        "    \n",
        "    return x"
      ],
      "execution_count": 0,
      "outputs": []
    },
    {
      "cell_type": "code",
      "metadata": {
        "id": "t3Pzzy4i1PR4",
        "colab_type": "code",
        "colab": {}
      },
      "source": [
        "generator = Generator()\n",
        "discriminator = Descriminator()\n",
        "generator.build(input_shape=[(None,10),(None,LATENT_DIM)])\n",
        "discriminator.build(input_shape=[(None,28,28,1),(None,10)])"
      ],
      "execution_count": 0,
      "outputs": []
    },
    {
      "cell_type": "markdown",
      "metadata": {
        "id": "P3Lj_kkaPtxC",
        "colab_type": "text"
      },
      "source": [
        "# Define Loss and Optimizer\n",
        "Use cross entropy as loss and Adam optimizer."
      ]
    },
    {
      "cell_type": "code",
      "metadata": {
        "id": "thT18Oqc1a_2",
        "colab_type": "code",
        "colab": {}
      },
      "source": [
        "# Define both loss function\n",
        "def generator_loss(generated_output):\n",
        "  return tf.reduce_mean(tf.losses.binary_crossentropy(tf.ones_like(generated_output), generated_output, from_logits=True))"
      ],
      "execution_count": 0,
      "outputs": []
    },
    {
      "cell_type": "code",
      "metadata": {
        "id": "rFRwru4EHUtd",
        "colab_type": "code",
        "colab": {}
      },
      "source": [
        "def discriminator_loss(real_output, generated_output):\n",
        "  \n",
        "  real_loss = tf.reduce_mean(tf.losses.binary_crossentropy(tf.ones_like(real_output), real_output, from_logits=True))\n",
        "  generated_loss = tf.reduce_mean(tf.losses.binary_crossentropy(tf.zeros_like(generated_output), generated_output, from_logits=True))\n",
        "\n",
        "  total_loss = real_loss + generated_loss\n",
        "\n",
        "  return total_loss"
      ],
      "execution_count": 0,
      "outputs": []
    },
    {
      "cell_type": "code",
      "metadata": {
        "id": "uwIB2SLjHnhp",
        "colab_type": "code",
        "colab": {}
      },
      "source": [
        "generator_optimizer = optimizers.Adam(1e-4)\n",
        "discriminator_optimizer = optimizers.Adam(1e-4)"
      ],
      "execution_count": 0,
      "outputs": []
    },
    {
      "cell_type": "markdown",
      "metadata": {
        "id": "sd7Tt0AlP9lg",
        "colab_type": "text"
      },
      "source": [
        "# Training"
      ]
    },
    {
      "cell_type": "code",
      "metadata": {
        "id": "jFAyFVAeHp09",
        "colab_type": "code",
        "colab": {}
      },
      "source": [
        "EPOCHS = 15\n",
        "num_examples_to_generate = 20\n",
        "\n",
        "# Define Metrics\n",
        "metrics = {}\n",
        "metrics['G_loss'] = tf.keras.metrics.Mean('generator_loss', dtype=tf.float32)\n",
        "metrics['D_loss'] = tf.keras.metrics.Mean('discriminator_loss', dtype=tf.float32)\n",
        "\n",
        "# reuse this vector\n",
        "random_vector_for_generation = tf.random.normal([num_examples_to_generate,\n",
        "                                                 LATENT_DIM])\n",
        "condition_vector_generation = tf.one_hot(list(range(10))+list(range(10)), 10)"
      ],
      "execution_count": 0,
      "outputs": []
    },
    {
      "cell_type": "code",
      "metadata": {
        "id": "zzO7zB6yIQ7G",
        "colab_type": "code",
        "colab": {}
      },
      "source": [
        "@tf.function\n",
        "def train_step(images, labels):\n",
        "  noise = tf.random.normal([BATCH_SIZE, LATENT_DIM])\n",
        "  \n",
        "  with tf.GradientTape() as gen_tape, tf.GradientTape() as disc_tape:\n",
        "    generated_images = generator([noise, labels], is_training=True)\n",
        "\n",
        "    real_output = discriminator([images, labels], is_training=True)\n",
        "    generated_output = discriminator([generated_images, labels], is_training=True)\n",
        "\n",
        "    gen_loss = generator_loss(generated_output)\n",
        "    disc_loss = discriminator_loss(real_output, generated_output)\n",
        "    \n",
        "  gradients_of_generator = gen_tape.gradient(gen_loss, generator.trainable_variables)\n",
        "  gradients_of_discriminator = disc_tape.gradient(disc_loss, discriminator.trainable_variables)\n",
        "\n",
        "  generator_optimizer.apply_gradients(zip(gradients_of_generator, generator.trainable_variables))\n",
        "  discriminator_optimizer.apply_gradients(zip(gradients_of_discriminator, discriminator.trainable_variables))\n",
        "  \n",
        "  metrics['G_loss'](gen_loss)\n",
        "  metrics['D_loss'](disc_loss)"
      ],
      "execution_count": 0,
      "outputs": []
    },
    {
      "cell_type": "code",
      "metadata": {
        "id": "V6r-2gKAoHce",
        "colab_type": "code",
        "colab": {}
      },
      "source": [
        "def plot_numBar(images):\n",
        "  images = np.uint8(images*127.5+128).clip(0, 255)[...,0]\n",
        "  concat_image = np.transpose(images, [1,0,2])\n",
        "  concat_image = concat_image.reshape((28,-1))\n",
        "  display(Image.fromarray(concat_image))"
      ],
      "execution_count": 0,
      "outputs": []
    },
    {
      "cell_type": "code",
      "metadata": {
        "id": "qMIfu2LlL69X",
        "colab_type": "code",
        "outputId": "7ae11ec7-5384-4161-8e50-b7e35f3d4c74",
        "colab": {
          "base_uri": "https://localhost:8080/",
          "height": 692
        }
      },
      "source": [
        "for epoch in range(EPOCHS):\n",
        "  start_time = time.time()\n",
        "  for images, labels in ds_train:\n",
        "    train_step(images, labels)\n",
        "  \n",
        "  fake = generator([random_vector_for_generation, condition_vector_generation], is_training=False)\n",
        "  template = \"Epoch {}({:.2f} sec), Generator Loss: {:.4f}, Discriminator  Loss: {:.4f}\"\n",
        "  print(template.format(epoch, time.time()-start_time, metrics[\"G_loss\"].result(),  metrics[\"D_loss\"].result()))\n",
        "  metrics[\"G_loss\"].reset_states()\n",
        "  metrics[\"D_loss\"].reset_states()\n",
        "  \n",
        "  plot_numBar(fake)"
      ],
      "execution_count": 19,
      "outputs": [
        {
          "output_type": "stream",
          "text": [
            "Epoch 0(50.88 sec), Generator Loss: 0.8088, Discriminator  Loss: 1.2162\n"
          ],
          "name": "stdout"
        },
        {
          "output_type": "display_data",
          "data": {
            "image/png": "[encoded data removed]",
            "text/plain": [
              "<PIL.Image.Image image mode=L size=560x28 at 0x7F060775F710>"
            ]
          },
          "metadata": {
            "tags": []
          }
        },
        {
          "output_type": "stream",
          "text": [
            "Epoch 1(45.98 sec), Generator Loss: 0.9266, Discriminator  Loss: 1.1218\n"
          ],
          "name": "stdout"
        },
        {
          "output_type": "display_data",
          "data": {
            "image/png": "[encoded data removed]",
            "text/plain": [
              "<PIL.Image.Image image mode=L size=560x28 at 0x7F06082670B8>"
            ]
          },
          "metadata": {
            "tags": []
          }
        },
        {
          "output_type": "stream",
          "text": [
            "Epoch 2(45.93 sec), Generator Loss: 0.8972, Discriminator  Loss: 1.1785\n"
          ],
          "name": "stdout"
        },
        {
          "output_type": "display_data",
          "data": {
            "image/png": "[encoded data removed]",
            "text/plain": [
              "<PIL.Image.Image image mode=L size=560x28 at 0x7F065002A828>"
            ]
          },
          "metadata": {
            "tags": []
          }
        },
        {
          "output_type": "stream",
          "text": [
            "Epoch 3(45.79 sec), Generator Loss: 0.9373, Discriminator  Loss: 1.1395\n"
          ],
          "name": "stdout"
        },
        {
          "output_type": "display_data",
          "data": {
            "image/png": "[encoded data removed]",
            "text/plain": [
              "<PIL.Image.Image image mode=L size=560x28 at 0x7F0608AB7C18>"
            ]
          },
          "metadata": {
            "tags": []
          }
        },
        {
          "output_type": "stream",
          "text": [
            "Epoch 4(45.88 sec), Generator Loss: 1.0014, Discriminator  Loss: 1.0919\n"
          ],
          "name": "stdout"
        },
        {
          "output_type": "display_data",
          "data": {
            "image/png": "[encoded data removed]",
            "text/plain": [
              "<PIL.Image.Image image mode=L size=560x28 at 0x7F0608AB7EB8>"
            ]
          },
          "metadata": {
            "tags": []
          }
        },
        {
          "output_type": "stream",
          "text": [
            "Epoch 5(45.99 sec), Generator Loss: 1.0487, Discriminator  Loss: 1.0719\n"
          ],
          "name": "stdout"
        },
        {
          "output_type": "display_data",
          "data": {
            "image/png": "[encoded data removed]",
            "text/plain": [
              "<PIL.Image.Image image mode=L size=560x28 at 0x7F0608AB7CF8>"
            ]
          },
          "metadata": {
            "tags": []
          }
        },
        {
          "output_type": "stream",
          "text": [
            "Epoch 6(45.83 sec), Generator Loss: 1.0702, Discriminator  Loss: 1.0688\n"
          ],
          "name": "stdout"
        },
        {
          "output_type": "display_data",
          "data": {
            "image/png": "[encoded data removed]",
            "text/plain": [
              "<PIL.Image.Image image mode=L size=560x28 at 0x7F06082670B8>"
            ]
          },
          "metadata": {
            "tags": []
          }
        },
        {
          "output_type": "stream",
          "text": [
            "Epoch 7(45.73 sec), Generator Loss: 1.0810, Discriminator  Loss: 1.0714\n"
          ],
          "name": "stdout"
        },
        {
          "output_type": "display_data",
          "data": {
            "image/png": "[encoded data removed]",
            "text/plain": [
              "<PIL.Image.Image image mode=L size=560x28 at 0x7F060775F668>"
            ]
          },
          "metadata": {
            "tags": []
          }
        },
        {
          "output_type": "stream",
          "text": [
            "Epoch 8(45.63 sec), Generator Loss: 1.0948, Discriminator  Loss: 1.0750\n"
          ],
          "name": "stdout"
        },
        {
          "output_type": "display_data",
          "data": {
            "image/png": "[encoded data removed]",
            "text/plain": [
              "<PIL.Image.Image image mode=L size=560x28 at 0x7F065002AD30>"
            ]
          },
          "metadata": {
            "tags": []
          }
        },
        {
          "output_type": "stream",
          "text": [
            "Epoch 9(45.89 sec), Generator Loss: 1.1087, Discriminator  Loss: 1.0751\n"
          ],
          "name": "stdout"
        },
        {
          "output_type": "display_data",
          "data": {
            "image/png": "[encoded data removed]",
            "text/plain": [
              "<PIL.Image.Image image mode=L size=560x28 at 0x7F06082670B8>"
            ]
          },
          "metadata": {
            "tags": []
          }
        },
        {
          "output_type": "stream",
          "text": [
            "Epoch 10(45.84 sec), Generator Loss: 1.1198, Discriminator  Loss: 1.0731\n"
          ],
          "name": "stdout"
        },
        {
          "output_type": "display_data",
          "data": {
            "image/png": "[encoded data removed]",
            "text/plain": [
              "<PIL.Image.Image image mode=L size=560x28 at 0x7F0608AB7EB8>"
            ]
          },
          "metadata": {
            "tags": []
          }
        },
        {
          "output_type": "stream",
          "text": [
            "Epoch 11(45.74 sec), Generator Loss: 1.1198, Discriminator  Loss: 1.0805\n"
          ],
          "name": "stdout"
        },
        {
          "output_type": "display_data",
          "data": {
            "image/png": "[encoded data removed]",
            "text/plain": [
              "<PIL.Image.Image image mode=L size=560x28 at 0x7F06BD7CD358>"
            ]
          },
          "metadata": {
            "tags": []
          }
        },
        {
          "output_type": "stream",
          "text": [
            "Epoch 12(45.78 sec), Generator Loss: 1.1233, Discriminator  Loss: 1.0847\n"
          ],
          "name": "stdout"
        },
        {
          "output_type": "display_data",
          "data": {
            "image/png": "[encoded data removed]",
            "text/plain": [
              "<PIL.Image.Image image mode=L size=560x28 at 0x7F065002AD30>"
            ]
          },
          "metadata": {
            "tags": []
          }
        },
        {
          "output_type": "stream",
          "text": [
            "Epoch 13(45.72 sec), Generator Loss: 1.1279, Discriminator  Loss: 1.0862\n"
          ],
          "name": "stdout"
        },
        {
          "output_type": "display_data",
          "data": {
            "image/png": "[encoded data removed]",
            "text/plain": [
              "<PIL.Image.Image image mode=L size=560x28 at 0x7F06595AE080>"
            ]
          },
          "metadata": {
            "tags": []
          }
        },
        {
          "output_type": "stream",
          "text": [
            "Epoch 14(45.80 sec), Generator Loss: 1.1255, Discriminator  Loss: 1.0918\n"
          ],
          "name": "stdout"
        },
        {
          "output_type": "display_data",
          "data": {
            "image/png": "[encoded data removed]",
            "text/plain": [
              "<PIL.Image.Image image mode=L size=560x28 at 0x7F06595AE630>"
            ]
          },
          "metadata": {
            "tags": []
          }
        }
      ]
    },
    {
      "cell_type": "markdown",
      "metadata": {
        "id": "gO9NqKPHSM0x",
        "colab_type": "text"
      },
      "source": [
        "# (Optional) Save model weights and load weights.\n",
        "only works in colab.\n",
        "\n",
        "1. Save weights in your google drive for inference in the future.\n",
        "2. Create a new generator.\n",
        "3. load weights and compare trained with untrained model."
      ]
    },
    {
      "cell_type": "code",
      "metadata": {
        "id": "LgdKvkPwYwQR",
        "colab_type": "code",
        "colab": {
          "base_uri": "https://localhost:8080/",
          "height": 34
        },
        "outputId": "ee27ca43-e288-4ca6-a6c8-29bc1cf7da64"
      },
      "source": [
        "# Fail if you're not in Colab\n",
        "from google.colab import drive\n",
        "drive.mount('/content/drive')"
      ],
      "execution_count": 20,
      "outputs": [
        {
          "output_type": "stream",
          "text": [
            "Drive already mounted at /content/drive; to attempt to forcibly remount, call drive.mount(\"/content/drive\", force_remount=True).\n"
          ],
          "name": "stdout"
        }
      ]
    },
    {
      "cell_type": "code",
      "metadata": {
        "id": "bhjc9zeUcqeS",
        "colab_type": "code",
        "colab": {}
      },
      "source": [
        "MODEL_PATH = 'drive/My Drive/Colab Notebooks/mnist_ckpt'\n",
        "if not os.path.exists(MODEL_PATH):\n",
        "  os.makedirs(MODEL_PATH)\n",
        "generator.save_weights(MODEL_PATH, save_format='tf')"
      ],
      "execution_count": 0,
      "outputs": []
    },
    {
      "cell_type": "code",
      "metadata": {
        "id": "cyr1_JR1crLr",
        "colab_type": "code",
        "outputId": "fc4289cb-6e54-4c32-e89a-68b58bc45f4b",
        "colab": {
          "base_uri": "https://localhost:8080/",
          "height": 45
        }
      },
      "source": [
        "new_generator = Generator()\n",
        "new_generator.build(input_shape=[(None,LATENT_DIM),(None,10)])\n",
        "noise = tf.random.normal([BATCH_SIZE, LATENT_DIM])\n",
        "image, label = next(iter(ds_train))\n",
        "\n",
        "# before load weights\n",
        "bad_images = new_generator([noise, labels], is_training=True)\n",
        "plot_numBar(bad_images)"
      ],
      "execution_count": 22,
      "outputs": [
        {
          "output_type": "display_data",
          "data": {
            "image/png": "[encoded data removed]",
            "text/plain": [
              "<PIL.Image.Image image mode=L size=896x28 at 0x7F06083143C8>"
            ]
          },
          "metadata": {
            "tags": []
          }
        }
      ]
    },
    {
      "cell_type": "code",
      "metadata": {
        "id": "HKK4TbQ-crz-",
        "colab_type": "code",
        "outputId": "aba3ca6b-7de5-49a7-c376-d98fa7f1db0d",
        "colab": {
          "base_uri": "https://localhost:8080/",
          "height": 45
        }
      },
      "source": [
        "new_generator.load_weights(MODEL_PATH)\n",
        "\n",
        "# assign digits whatever you want\n",
        "my_label = list([3,1,2,5,4,8,7,9,0,6])\n",
        "noise = tf.random.normal([len(my_label), LATENT_DIM])\n",
        "my_label = tf.one_hot(my_label, 10)\n",
        "\n",
        "better_image = new_generator([noise, my_label])\n",
        "\n",
        "plot_numBar(better_image)"
      ],
      "execution_count": 23,
      "outputs": [
        {
          "output_type": "display_data",
          "data": {
            "image/png": "[encoded data removed]",
            "text/plain": [
              "<PIL.Image.Image image mode=L size=280x28 at 0x7F060725A128>"
            ]
          },
          "metadata": {
            "tags": []
          }
        }
      ]
    }
  ]
}