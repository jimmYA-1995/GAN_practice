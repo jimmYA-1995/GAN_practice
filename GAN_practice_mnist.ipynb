{
  "nbformat": 4,
  "nbformat_minor": 0,
  "metadata": {
    "colab": {
      "name": "GAN_practice_mnist.ipynb",
      "provenance": [],
      "collapsed_sections": [],
      "include_colab_link": true
    },
    "kernelspec": {
      "name": "python3",
      "display_name": "Python 3"
    },
    "accelerator": "GPU"
  },
  "cells": [
    {
      "cell_type": "markdown",
      "metadata": {
        "id": "view-in-github",
        "colab_type": "text"
      },
      "source": [
        "<a href=\"https://colab.research.google.com/github/jimmYA-1995/GAN_practice/blob/master/GAN_practice_mnist.ipynb\" target=\"_parent\"><img src=\"https://colab.research.google.com/assets/colab-badge.svg\" alt=\"Open In Colab\"/></a>"
      ]
    },
    {
      "cell_type": "code",
      "metadata": {
        "id": "lz-0P_tVkOZ7",
        "colab_type": "code",
        "colab": {}
      },
      "source": [
        "# %tensorflow_version 2.x\n",
        "# 2019/09/19 For now, tensorflow_version 2.x doesn't use the latest version of tensorflow 2.\n",
        "# which causes some issue, ref https://github.com/tensorflow/tensorflow/issues/32594"
      ],
      "execution_count": 0,
      "outputs": []
    },
    {
      "cell_type": "code",
      "metadata": {
        "id": "bEmFnR62nh1l",
        "colab_type": "code",
        "outputId": "3c5c0474-1206-4fb2-c80a-dff19265fcec",
        "colab": {
          "base_uri": "https://localhost:8080/",
          "height": 394
        }
      },
      "source": [
        "!pip install tensorflow-gpu==2.0.0-rc1"
      ],
      "execution_count": 0,
      "outputs": [
        {
          "output_type": "stream",
          "text": [
            "Requirement already satisfied: tensorflow-gpu==2.0.0-rc1 in /usr/local/lib/python3.6/dist-packages (2.0.0rc1)\n",
            "Requirement already satisfied: protobuf>=3.6.1 in /usr/local/lib/python3.6/dist-packages (from tensorflow-gpu==2.0.0-rc1) (3.7.1)\n",
            "Requirement already satisfied: gast>=0.2.0 in /usr/local/lib/python3.6/dist-packages (from tensorflow-gpu==2.0.0-rc1) (0.2.2)\n",
            "Requirement already satisfied: numpy<2.0,>=1.16.0 in /usr/local/lib/python3.6/dist-packages (from tensorflow-gpu==2.0.0-rc1) (1.16.5)\n",
            "Requirement already satisfied: grpcio>=1.8.6 in /usr/local/lib/python3.6/dist-packages (from tensorflow-gpu==2.0.0-rc1) (1.15.0)\n",
            "Requirement already satisfied: termcolor>=1.1.0 in /usr/local/lib/python3.6/dist-packages (from tensorflow-gpu==2.0.0-rc1) (1.1.0)\n",
            "Requirement already satisfied: astor>=0.6.0 in /usr/local/lib/python3.6/dist-packages (from tensorflow-gpu==2.0.0-rc1) (0.8.0)\n",
            "Requirement already satisfied: tf-estimator-nightly<1.14.0.dev2019080602,>=1.14.0.dev2019080601 in /usr/local/lib/python3.6/dist-packages (from tensorflow-gpu==2.0.0-rc1) (1.14.0.dev2019080601)\n",
            "Requirement already satisfied: tb-nightly<1.15.0a20190807,>=1.15.0a20190806 in /usr/local/lib/python3.6/dist-packages (from tensorflow-gpu==2.0.0-rc1) (1.15.0a20190806)\n",
            "Requirement already satisfied: keras-preprocessing>=1.0.5 in /usr/local/lib/python3.6/dist-packages (from tensorflow-gpu==2.0.0-rc1) (1.1.0)\n",
            "Requirement already satisfied: six>=1.10.0 in /usr/local/lib/python3.6/dist-packages (from tensorflow-gpu==2.0.0-rc1) (1.12.0)\n",
            "Requirement already satisfied: keras-applications>=1.0.8 in /usr/local/lib/python3.6/dist-packages (from tensorflow-gpu==2.0.0-rc1) (1.0.8)\n",
            "Requirement already satisfied: wrapt>=1.11.1 in /usr/local/lib/python3.6/dist-packages (from tensorflow-gpu==2.0.0-rc1) (1.11.2)\n",
            "Requirement already satisfied: opt-einsum>=2.3.2 in /usr/local/lib/python3.6/dist-packages (from tensorflow-gpu==2.0.0-rc1) (3.0.1)\n",
            "Requirement already satisfied: absl-py>=0.7.0 in /usr/local/lib/python3.6/dist-packages (from tensorflow-gpu==2.0.0-rc1) (0.8.0)\n",
            "Requirement already satisfied: wheel>=0.26 in /usr/local/lib/python3.6/dist-packages (from tensorflow-gpu==2.0.0-rc1) (0.33.6)\n",
            "Requirement already satisfied: google-pasta>=0.1.6 in /usr/local/lib/python3.6/dist-packages (from tensorflow-gpu==2.0.0-rc1) (0.1.7)\n",
            "Requirement already satisfied: setuptools in /usr/local/lib/python3.6/dist-packages (from protobuf>=3.6.1->tensorflow-gpu==2.0.0-rc1) (41.2.0)\n",
            "Requirement already satisfied: werkzeug>=0.11.15 in /usr/local/lib/python3.6/dist-packages (from tb-nightly<1.15.0a20190807,>=1.15.0a20190806->tensorflow-gpu==2.0.0-rc1) (0.15.6)\n",
            "Requirement already satisfied: markdown>=2.6.8 in /usr/local/lib/python3.6/dist-packages (from tb-nightly<1.15.0a20190807,>=1.15.0a20190806->tensorflow-gpu==2.0.0-rc1) (3.1.1)\n",
            "Requirement already satisfied: h5py in /usr/local/lib/python3.6/dist-packages (from keras-applications>=1.0.8->tensorflow-gpu==2.0.0-rc1) (2.8.0)\n"
          ],
          "name": "stdout"
        }
      ]
    },
    {
      "cell_type": "code",
      "metadata": {
        "id": "xWIqEwObkfHP",
        "colab_type": "code",
        "colab": {}
      },
      "source": [
        "import os\n",
        "import time\n",
        "import numpy as np\n",
        "import matplotlib.pyplot as plt\n",
        "\n",
        "from PIL import Image\n",
        "from skimage.io import imshow\n",
        "from IPython.display import display\n",
        "\n",
        "import tensorflow as tf\n",
        "from tensorflow.keras import Model, layers, Sequential, datasets, optimizers\n",
        "from tensorflow.keras.datasets import mnist \n",
        "\n"
      ],
      "execution_count": 0,
      "outputs": []
    },
    {
      "cell_type": "code",
      "metadata": {
        "id": "XqRIq7Tok5NF",
        "colab_type": "code",
        "outputId": "4b6060dc-abc5-4471-8eb1-6ae548475567",
        "colab": {
          "base_uri": "https://localhost:8080/",
          "height": 34
        }
      },
      "source": [
        "np.__version__"
      ],
      "execution_count": 0,
      "outputs": [
        {
          "output_type": "execute_result",
          "data": {
            "text/plain": [
              "'1.16.5'"
            ]
          },
          "metadata": {
            "tags": []
          },
          "execution_count": 23
        }
      ]
    },
    {
      "cell_type": "code",
      "metadata": {
        "id": "gF8kG4iGntZN",
        "colab_type": "code",
        "outputId": "b100e905-ea76-4279-ca79-d747fe3bd011",
        "colab": {
          "base_uri": "https://localhost:8080/",
          "height": 34
        }
      },
      "source": [
        "tf.__version__"
      ],
      "execution_count": 0,
      "outputs": [
        {
          "output_type": "execute_result",
          "data": {
            "text/plain": [
              "'2.0.0-rc1'"
            ]
          },
          "metadata": {
            "tags": []
          },
          "execution_count": 24
        }
      ]
    },
    {
      "cell_type": "code",
      "metadata": {
        "id": "AnNUr8Ug4Iz8",
        "colab_type": "code",
        "outputId": "76c8aa93-ff07-43cc-dead-d42aef00719f",
        "colab": {
          "base_uri": "https://localhost:8080/",
          "height": 34
        }
      },
      "source": [
        "(x_train, y_train), (x_test, y_test) = mnist.load_data()\n",
        "\n",
        "# \n",
        "BUFFER_SIZE = x_train.shape[0]\n",
        "BATCH_SIZE = 32\n",
        "x_train.dtype, x_train.shape, y_train.dtype, y_train.shape"
      ],
      "execution_count": 0,
      "outputs": [
        {
          "output_type": "execute_result",
          "data": {
            "text/plain": [
              "(dtype('uint8'), (60000, 28, 28), dtype('uint8'), (60000,))"
            ]
          },
          "metadata": {
            "tags": []
          },
          "execution_count": 25
        }
      ]
    },
    {
      "cell_type": "code",
      "metadata": {
        "id": "nAuIp_3fpTCx",
        "colab_type": "code",
        "outputId": "113382e3-349e-413b-ae0a-7a23c680b843",
        "colab": {
          "base_uri": "https://localhost:8080/",
          "height": 45
        }
      },
      "source": [
        "def showX(X):\n",
        "    int_X_reshape = X.reshape(-1,28,28).swapaxes(0,1).reshape(28,-1)\n",
        "    display(Image.fromarray(int_X_reshape))\n",
        "\n",
        "showX(x_train[:20])"
      ],
      "execution_count": 0,
      "outputs": [
        {
          "output_type": "display_data",
          "data": {
            "image/png": "[encoded data removed]",
            "text/plain": [
              "<PIL.Image.Image image mode=L size=560x28 at 0x7FE0150A2588>"
            ]
          },
          "metadata": {
            "tags": []
          }
        }
      ]
    },
    {
      "cell_type": "code",
      "metadata": {
        "id": "O5HH-mc9qjCW",
        "colab_type": "code",
        "outputId": "e9479fc0-c5be-4e3c-f829-f0e24905758f",
        "colab": {
          "base_uri": "https://localhost:8080/",
          "height": 51
        }
      },
      "source": [
        "y_train[:20]"
      ],
      "execution_count": 0,
      "outputs": [
        {
          "output_type": "execute_result",
          "data": {
            "text/plain": [
              "array([5, 0, 4, 1, 9, 2, 1, 3, 1, 4, 3, 5, 3, 6, 1, 7, 2, 8, 6, 9],\n",
              "      dtype=uint8)"
            ]
          },
          "metadata": {
            "tags": []
          },
          "execution_count": 27
        }
      ]
    },
    {
      "cell_type": "code",
      "metadata": {
        "id": "Mp860VFS4rhm",
        "colab_type": "code",
        "outputId": "fd71617b-3d70-4463-d4ae-67666afa378f",
        "colab": {
          "base_uri": "https://localhost:8080/",
          "height": 314
        }
      },
      "source": [
        "imshow(x_train[0])"
      ],
      "execution_count": 0,
      "outputs": [
        {
          "output_type": "execute_result",
          "data": {
            "text/plain": [
              "<matplotlib.image.AxesImage at 0x7fe0150ca7b8>"
            ]
          },
          "metadata": {
            "tags": []
          },
          "execution_count": 28
        },
        {
          "output_type": "display_data",
          "data": {
            "image/png": "[encoded data removed]",
            "text/plain": [
              "<Figure size 432x288 with 1 Axes>"
            ]
          },
          "metadata": {
            "tags": []
          }
        }
      ]
    },
    {
      "cell_type": "code",
      "metadata": {
        "id": "2vBXURKvlIis",
        "colab_type": "code",
        "colab": {}
      },
      "source": [
        "def preprocess(x):\n",
        "    x = (tf.cast(x, tf.float32) - 127.5) / 127.5\n",
        "    return x[..., None]\n",
        "\n",
        "ds_train_x = tf.data.Dataset.from_tensor_slices(preprocess(x_train))\n",
        "ds_train_y = tf.data.Dataset.from_tensor_slices(y_train).map(lambda y: tf.one_hot(y, 10))\n",
        "ds_train = tf.data.Dataset.zip((ds_train_x, ds_train_y)).shuffle(BUFFER_SIZE).batch(BATCH_SIZE)"
      ],
      "execution_count": 0,
      "outputs": []
    },
    {
      "cell_type": "code",
      "metadata": {
        "id": "BQmIAL-osxDY",
        "colab_type": "code",
        "colab": {}
      },
      "source": [
        "# Define generator\n",
        "LATENT_DIM = 100\n",
        "class Generator(Model):\n",
        "  def __init__(self):\n",
        "    super().__init__()\n",
        "    self.fc1 = layers.Dense(7*7*256, use_bias=False, input_shape=(LATENT_DIM,))\n",
        "    self.bn1 = layers.BatchNormalization()\n",
        "    # deConV layer\n",
        "    self.conv2tr_1 = layers.Conv2DTranspose(128, (5,5), strides=(1,1), padding=\"SAME\", use_bias=False)\n",
        "    self.bn2 = layers.BatchNormalization()\n",
        "    # deConV layer\n",
        "    self.conv2tr_2 = layers.Conv2DTranspose(64, (5,5), strides=(2,2), padding=\"SAME\", use_bias=False)\n",
        "    self.bn3 = layers.BatchNormalization()\n",
        "    # deConV layer\n",
        "    self.conv2tr_3 = layers.Conv2DTranspose(1, (5,5), strides=(2,2), padding=\"SAME\", activation=\"tanh\")\n",
        "    \n",
        "  @tf.function\n",
        "  def call(self, inputs, is_training=False):\n",
        "    _ = layers.concatenate([inputs[1], inputs[0]])\n",
        "    x = self.fc1(_)\n",
        "    x = self.bn1(x, training=is_training)\n",
        "    x = tf.nn.leaky_relu(x)\n",
        "    x = tf.reshape(x, shape=[-1,7,7,256])\n",
        "    x = self.conv2tr_1(x)\n",
        "    x = self.bn2(x, training=is_training)\n",
        "    x = tf.nn.leaky_relu(x)\n",
        "    x = self.conv2tr_2(x)\n",
        "    x = self.bn3(x, training=is_training)\n",
        "    x = tf.nn.leaky_relu(x)\n",
        "    \n",
        "    x = self.conv2tr_3(x)\n",
        "    \n",
        "    return x"
      ],
      "execution_count": 0,
      "outputs": []
    },
    {
      "cell_type": "code",
      "metadata": {
        "id": "k1epd4DfxBIG",
        "colab_type": "code",
        "colab": {}
      },
      "source": [
        "# DEFINE Descriminator\n",
        "class Descriminator(Model):\n",
        "  def __init__(self):\n",
        "    super().__init__()\n",
        "    self.conv1 = layers.Conv2D(64, (5,5), strides=2, padding=\"SAME\")\n",
        "    self.drop1 = layers.Dropout(0.3)\n",
        "    self.conv2 = layers.Conv2D(128, (5,5), strides=2, padding=\"SAME\")\n",
        "    self.drop2 = layers.Dropout(0.3)\n",
        "    self.flatten = layers.Flatten()\n",
        "    self.fc1 = layers.Dense(50)\n",
        "    self.bn = layers.BatchNormalization()\n",
        "    self.fc2 = layers.Dense(1)\n",
        "  \n",
        "  @tf.function\n",
        "  def call(self, inputs, is_training=False):\n",
        "    x = self.conv1(inputs[0])\n",
        "    x = tf.nn.leaky_relu(x)\n",
        "    x = self.drop1(x, training=is_training)\n",
        "    x = self.conv2(x)\n",
        "    x = tf.nn.leaky_relu(x)\n",
        "    x = self.drop2(x, training=is_training)\n",
        "    x = self.flatten(x)\n",
        "    x = layers.concatenate([x, inputs[1]])\n",
        "    x = self.fc1(x)\n",
        "    x = self.bn(x, training=is_training)\n",
        "    x = tf.nn.leaky_relu(x)\n",
        "    x = self.fc2(x)\n",
        "    \n",
        "    return x"
      ],
      "execution_count": 0,
      "outputs": []
    },
    {
      "cell_type": "code",
      "metadata": {
        "id": "t3Pzzy4i1PR4",
        "colab_type": "code",
        "colab": {}
      },
      "source": [
        "generator = Generator()\n",
        "discriminator = Descriminator()\n",
        "generator.build(input_shape=[(None,10),(None,LATENT_DIM)])\n",
        "discriminator.build(input_shape=[(None,28,28,1),(None,10)])"
      ],
      "execution_count": 0,
      "outputs": []
    },
    {
      "cell_type": "code",
      "metadata": {
        "id": "thT18Oqc1a_2",
        "colab_type": "code",
        "colab": {}
      },
      "source": [
        "# Define both loss function\n",
        "def generator_loss(generated_output):\n",
        "  return tf.reduce_mean(tf.losses.binary_crossentropy(tf.ones_like(generated_output), generated_output, from_logits=True))"
      ],
      "execution_count": 0,
      "outputs": []
    },
    {
      "cell_type": "code",
      "metadata": {
        "id": "rFRwru4EHUtd",
        "colab_type": "code",
        "colab": {}
      },
      "source": [
        "def discriminator_loss(real_output, generated_output):\n",
        "  \n",
        "  real_loss = tf.reduce_mean(tf.losses.binary_crossentropy(tf.ones_like(real_output), real_output, from_logits=True))\n",
        "  generated_loss = tf.reduce_mean(tf.losses.binary_crossentropy(tf.zeros_like(generated_output), generated_output, from_logits=True))\n",
        "\n",
        "  total_loss = real_loss + generated_loss\n",
        "\n",
        "  return total_loss"
      ],
      "execution_count": 0,
      "outputs": []
    },
    {
      "cell_type": "code",
      "metadata": {
        "id": "uwIB2SLjHnhp",
        "colab_type": "code",
        "colab": {}
      },
      "source": [
        "generator_optimizer = optimizers.Adam(1e-4)\n",
        "discriminator_optimizer = optimizers.Adam(1e-4)"
      ],
      "execution_count": 0,
      "outputs": []
    },
    {
      "cell_type": "code",
      "metadata": {
        "id": "jFAyFVAeHp09",
        "colab_type": "code",
        "colab": {}
      },
      "source": [
        "EPOCHS = 50\n",
        "num_examples_to_generate = 20\n",
        "\n",
        "# reuse this vector\n",
        "random_vector_for_generation = tf.random.normal([num_examples_to_generate,\n",
        "                                                 LATENT_DIM])\n",
        "condition_vector_generation = tf.one_hot(list(range(10))+list(range(10)), 10)"
      ],
      "execution_count": 0,
      "outputs": []
    },
    {
      "cell_type": "code",
      "metadata": {
        "id": "zzO7zB6yIQ7G",
        "colab_type": "code",
        "colab": {}
      },
      "source": [
        "@tf.function\n",
        "def train_step(images, labels):\n",
        "  noise = tf.random.normal([BATCH_SIZE, LATENT_DIM])\n",
        "  \n",
        "  with tf.GradientTape() as gen_tape, tf.GradientTape() as disc_tape:\n",
        "    generated_images = generator([noise, labels], is_training=True)\n",
        "\n",
        "    real_output = discriminator([images, labels], is_training=True)\n",
        "    generated_output = discriminator([generated_images, labels], is_training=True)\n",
        "\n",
        "    gen_loss = generator_loss(generated_output)\n",
        "    disc_loss = discriminator_loss(real_output, generated_output)\n",
        "    \n",
        "  gradients_of_generator = gen_tape.gradient(gen_loss, generator.trainable_variables)\n",
        "  gradients_of_discriminator = disc_tape.gradient(disc_loss, discriminator.trainable_variables)\n",
        "\n",
        "  generator_optimizer.apply_gradients(zip(gradients_of_generator, generator.trainable_variables))\n",
        "  discriminator_optimizer.apply_gradients(zip(gradients_of_discriminator, discriminator.trainable_variables))"
      ],
      "execution_count": 0,
      "outputs": []
    },
    {
      "cell_type": "code",
      "metadata": {
        "id": "V6r-2gKAoHce",
        "colab_type": "code",
        "colab": {}
      },
      "source": [
        "def plot_numBar(images):\n",
        "  images = np.uint8(images*127.5+128).clip(0, 255)[...,0]\n",
        "  concat_image = np.transpose(images, [1,0,2])\n",
        "  concat_image = concat_image.reshape((28,-1))\n",
        "  display(Image.fromarray(concat_image))"
      ],
      "execution_count": 0,
      "outputs": []
    },
    {
      "cell_type": "code",
      "metadata": {
        "id": "qMIfu2LlL69X",
        "colab_type": "code",
        "outputId": "17afbe5b-f671-4ab1-8436-7ac351fff55d",
        "colab": {
          "base_uri": "https://localhost:8080/",
          "height": 692
        }
      },
      "source": [
        "for epoch in range(15):\n",
        "  start_time = time.time()\n",
        "  for images, labels in ds_train:\n",
        "    train_step(images, labels)\n",
        "  \n",
        "  fake = generator([random_vector_for_generation, condition_vector_generation], is_training=False)\n",
        "  print(epoch, time.time()-start_time)\n",
        "  plot_numBar(fake)"
      ],
      "execution_count": 0,
      "outputs": [
        {
          "output_type": "stream",
          "text": [
            "0 49.3989622592926\n"
          ],
          "name": "stdout"
        },
        {
          "output_type": "display_data",
          "data": {
            "image/png": "[encoded data removed]",
            "text/plain": [
              "<PIL.Image.Image image mode=L size=560x28 at 0x7FE0144A5E10>"
            ]
          },
          "metadata": {
            "tags": []
          }
        },
        {
          "output_type": "stream",
          "text": [
            "1 45.6253547668457\n"
          ],
          "name": "stdout"
        },
        {
          "output_type": "display_data",
          "data": {
            "image/png": "[encoded data removed]",
            "text/plain": [
              "<PIL.Image.Image image mode=L size=560x28 at 0x7FE0144A5E10>"
            ]
          },
          "metadata": {
            "tags": []
          }
        },
        {
          "output_type": "stream",
          "text": [
            "2 45.36630320549011\n"
          ],
          "name": "stdout"
        },
        {
          "output_type": "display_data",
          "data": {
            "image/png": "[encoded data removed]",
            "text/plain": [
              "<PIL.Image.Image image mode=L size=560x28 at 0x7FE0138B8358>"
            ]
          },
          "metadata": {
            "tags": []
          }
        },
        {
          "output_type": "stream",
          "text": [
            "3 45.351794481277466\n"
          ],
          "name": "stdout"
        },
        {
          "output_type": "display_data",
          "data": {
            "image/png": "[encoded data removed]",
            "text/plain": [
              "<PIL.Image.Image image mode=L size=560x28 at 0x7FE06013C4E0>"
            ]
          },
          "metadata": {
            "tags": []
          }
        },
        {
          "output_type": "stream",
          "text": [
            "4 45.58365225791931\n"
          ],
          "name": "stdout"
        },
        {
          "output_type": "display_data",
          "data": {
            "image/png": "[encoded data removed]",
            "text/plain": [
              "<PIL.Image.Image image mode=L size=560x28 at 0x7FE06013C198>"
            ]
          },
          "metadata": {
            "tags": []
          }
        },
        {
          "output_type": "stream",
          "text": [
            "5 45.61301898956299\n"
          ],
          "name": "stdout"
        },
        {
          "output_type": "display_data",
          "data": {
            "image/png": "[encoded data removed]",
            "text/plain": [
              "<PIL.Image.Image image mode=L size=560x28 at 0x7FE014925E48>"
            ]
          },
          "metadata": {
            "tags": []
          }
        },
        {
          "output_type": "stream",
          "text": [
            "6 45.49946737289429\n"
          ],
          "name": "stdout"
        },
        {
          "output_type": "display_data",
          "data": {
            "image/png": "[encoded data removed]",
            "text/plain": [
              "<PIL.Image.Image image mode=L size=560x28 at 0x7FE0138B8358>"
            ]
          },
          "metadata": {
            "tags": []
          }
        },
        {
          "output_type": "stream",
          "text": [
            "7 45.6049702167511\n"
          ],
          "name": "stdout"
        },
        {
          "output_type": "display_data",
          "data": {
            "image/png": "[encoded data removed]",
            "text/plain": [
              "<PIL.Image.Image image mode=L size=560x28 at 0x7FE014925E10>"
            ]
          },
          "metadata": {
            "tags": []
          }
        },
        {
          "output_type": "stream",
          "text": [
            "8 45.41204476356506\n"
          ],
          "name": "stdout"
        },
        {
          "output_type": "display_data",
          "data": {
            "image/png": "[encoded data removed]",
            "text/plain": [
              "<PIL.Image.Image image mode=L size=560x28 at 0x7FE0149256A0>"
            ]
          },
          "metadata": {
            "tags": []
          }
        },
        {
          "output_type": "stream",
          "text": [
            "9 45.54000735282898\n"
          ],
          "name": "stdout"
        },
        {
          "output_type": "display_data",
          "data": {
            "image/png": "[encoded data removed]",
            "text/plain": [
              "<PIL.Image.Image image mode=L size=560x28 at 0x7FE014925E48>"
            ]
          },
          "metadata": {
            "tags": []
          }
        },
        {
          "output_type": "stream",
          "text": [
            "10 45.704153537750244\n"
          ],
          "name": "stdout"
        },
        {
          "output_type": "display_data",
          "data": {
            "image/png": "[encoded data removed]",
            "text/plain": [
              "<PIL.Image.Image image mode=L size=560x28 at 0x7FE0149257B8>"
            ]
          },
          "metadata": {
            "tags": []
          }
        },
        {
          "output_type": "stream",
          "text": [
            "11 45.49570941925049\n"
          ],
          "name": "stdout"
        },
        {
          "output_type": "display_data",
          "data": {
            "image/png": "[encoded data removed]",
            "text/plain": [
              "<PIL.Image.Image image mode=L size=560x28 at 0x7FE014925390>"
            ]
          },
          "metadata": {
            "tags": []
          }
        },
        {
          "output_type": "stream",
          "text": [
            "12 45.48928713798523\n"
          ],
          "name": "stdout"
        },
        {
          "output_type": "display_data",
          "data": {
            "image/png": "[encoded data removed]",
            "text/plain": [
              "<PIL.Image.Image image mode=L size=560x28 at 0x7FE0149257B8>"
            ]
          },
          "metadata": {
            "tags": []
          }
        },
        {
          "output_type": "stream",
          "text": [
            "13 45.716166734695435\n"
          ],
          "name": "stdout"
        },
        {
          "output_type": "display_data",
          "data": {
            "image/png": "[encoded data removed]",
            "text/plain": [
              "<PIL.Image.Image image mode=L size=560x28 at 0x7FE014925390>"
            ]
          },
          "metadata": {
            "tags": []
          }
        },
        {
          "output_type": "stream",
          "text": [
            "14 45.385292291641235\n"
          ],
          "name": "stdout"
        },
        {
          "output_type": "display_data",
          "data": {
            "image/png": "[encoded data removed]",
            "text/plain": [
              "<PIL.Image.Image image mode=L size=560x28 at 0x7FE01498FDD8>"
            ]
          },
          "metadata": {
            "tags": []
          }
        }
      ]
    },
    {
      "cell_type": "code",
      "metadata": {
        "id": "bhjc9zeUcqeS",
        "colab_type": "code",
        "colab": {}
      },
      "source": [
        "MODEL_PATH = 'drive/My Drive/Colab Notebooks/mount/models/mnist_GAN/alldata'\n",
        "generator.save_weights(MODEL_PATH, save_format='tf')"
      ],
      "execution_count": 0,
      "outputs": []
    },
    {
      "cell_type": "code",
      "metadata": {
        "id": "cyr1_JR1crLr",
        "colab_type": "code",
        "outputId": "fe10f208-3ddc-4cbf-c715-aa94afad1128",
        "colab": {
          "base_uri": "https://localhost:8080/",
          "height": 79
        }
      },
      "source": [
        "# load & use model\n",
        "new_model = Generator()\n",
        "new_model.build(input_shape=[(None,LATENT_DIM),(None,10)])\n",
        "noise = tf.random.normal([BATCH_SIZE, LATENT_DIM])\n",
        "image, label = next(iter(ds_train))\n",
        "\n",
        "# before load weights\n",
        "bad_images = generator([noise, labels], is_training=True)\n",
        "plot_numBar(bad_images)"
      ],
      "execution_count": 0,
      "outputs": [
        {
          "output_type": "stream",
          "text": [
            "(32, 28, 28, 1)\n",
            "(32, 28, 28)\n"
          ],
          "name": "stdout"
        },
        {
          "output_type": "display_data",
          "data": {
            "image/png": "[encoded data removed]",
            "text/plain": [
              "<PIL.Image.Image image mode=L size=896x28 at 0x7FE012B79320>"
            ]
          },
          "metadata": {
            "tags": []
          }
        }
      ]
    },
    {
      "cell_type": "code",
      "metadata": {
        "id": "HKK4TbQ-crz-",
        "colab_type": "code",
        "outputId": "44c728ff-7aee-43d5-cc8c-74c2b90b0fe8",
        "colab": {
          "base_uri": "https://localhost:8080/",
          "height": 45
        }
      },
      "source": [
        "new_model.load_weights(MODEL_PATH)\n",
        "\n",
        "my_label = list([3,1,2,5,4,8,7,9,0,6])\n",
        "noise = tf.random.normal([len(my_label), LATENT_DIM])\n",
        "my_label = tf.one_hot(my_label, 10)\n",
        "\n",
        "better = generator([noise, my_label])\n",
        "\n",
        "plot_numBar(better)"
      ],
      "execution_count": 0,
      "outputs": [
        {
          "output_type": "display_data",
          "data": {
            "image/png": "[encoded data removed]",
            "text/plain": [
              "<PIL.Image.Image image mode=L size=280x28 at 0x7FE012832E48>"
            ]
          },
          "metadata": {
            "tags": []
          }
        }
      ]
    },
    {
      "cell_type": "code",
      "metadata": {
        "id": "gqqkPSocrqIh",
        "colab_type": "code",
        "colab": {}
      },
      "source": [
        ""
      ],
      "execution_count": 0,
      "outputs": []
    }
  ]
}